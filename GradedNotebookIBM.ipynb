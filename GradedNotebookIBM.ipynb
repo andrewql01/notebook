{
  "metadata": {
    "kernelspec": {
      "name": "python",
      "display_name": "Python (Pyodide)",
      "language": "python"
    },
    "language_info": {
      "codemirror_mode": {
        "name": "python",
        "version": 3
      },
      "file_extension": ".py",
      "mimetype": "text/x-python",
      "name": "python",
      "nbconvert_exporter": "python",
      "pygments_lexer": "ipython3",
      "version": "3.8"
    }
  },
  "nbformat_minor": 4,
  "nbformat": 4,
  "cells": [
    {
      "cell_type": "markdown",
      "source": "# IBM Graded Notebook",
      "metadata": {}
    },
    {
      "cell_type": "markdown",
      "source": "*this notebook has been created to verify the progress in IBM's coursera Course*",
      "metadata": {}
    },
    {
      "cell_type": "markdown",
      "source": "**List Objectives**\n+ Learn datascience\n+ Get a well paid job\n+ Go on vacation to Croatia",
      "metadata": {}
    },
    {
      "cell_type": "markdown",
      "source": "Languages used in data science\n- python\n- R",
      "metadata": {}
    },
    {
      "cell_type": "markdown",
      "source": "Data science libraries\n1. Pandas\n2. scikit-sklearn\n3. Scipy\n4. Keras\n5. Tensorflow",
      "metadata": {}
    },
    {
      "cell_type": "markdown",
      "source": "Table of Data Science tools\n\n|Tool|\n|----|\n|Apache Spark|\n|Hadoop|\n|IBM SPSS|",
      "metadata": {}
    },
    {
      "cell_type": "markdown",
      "source": "## arithmetic expression examples\n- multiply *\n- power **\n- divide /\n- add +\n- subtract -",
      "metadata": {}
    },
    {
      "cell_type": "code",
      "source": "## multiply and add numbers\nprint(\"2*4 = \" + str(2*4))\nprint(\"2+2 = \" + str(2+2))",
      "metadata": {
        "trusted": true
      },
      "outputs": [
        {
          "name": "stdout",
          "text": "2*4 = 8\n2+2 = 4\n",
          "output_type": "stream"
        }
      ],
      "execution_count": 17
    },
    {
      "cell_type": "code",
      "source": "## convert minutes to hours\nminutes = 20\nprint(\"hours = \" + str(minutes/60))",
      "metadata": {
        "trusted": true
      },
      "outputs": [
        {
          "name": "stdout",
          "text": "hours = 0.3333333333333333\n",
          "output_type": "stream"
        }
      ],
      "execution_count": 20
    },
    {
      "cell_type": "markdown",
      "source": "## Authors Name\n*Andrzej*\n",
      "metadata": {}
    },
    {
      "cell_type": "code",
      "source": "",
      "metadata": {
        "trusted": true
      },
      "outputs": [],
      "execution_count": null
    }
  ]
}